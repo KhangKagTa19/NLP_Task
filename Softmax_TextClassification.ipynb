{
  "cells": [
    {
      "cell_type": "markdown",
      "metadata": {
        "id": "view-in-github",
        "colab_type": "text"
      },
      "source": [
        "<a href=\"https://colab.research.google.com/github/KhangKagTa19/News-Classification/blob/main/Softmax_TextClassification.ipynb\" target=\"_parent\"><img src=\"https://colab.research.google.com/assets/colab-badge.svg\" alt=\"Open In Colab\"/></a>"
      ]
    },
    {
      "cell_type": "markdown",
      "metadata": {
        "id": "R-Na14pvWAf3"
      },
      "source": [
        "# Logistic Regression with a Neural Network mindset\n",
        "\n",
        "Welcome to your first (required) programming assignment! You will build a logistic regression classifier to recognize Politics-Society News. This assignment will step you through how to do this with a Neural Network mindset, and so will also hone your intuitions about deep learning.\n",
        "\n",
        "\n",
        "\n",
        "**You will learn to:**\n",
        "- Build the general architecture of a learning algorithm, including:\n",
        "    - Initializing parameters\n",
        "    - Calculating the cost function and its gradient\n",
        "    - Using an optimization algorithm (gradient descent)\n",
        "- Gather all three functions above into a main model function, in the right order."
      ]
    },
    {
      "cell_type": "markdown",
      "metadata": {
        "id": "Fa02Fmu9WAf5"
      },
      "source": [
        "## 1 - Packages ##\n",
        "\n",
        "First, let's run the cell below to import all the packages that you will need during this assignment."
      ]
    },
    {
      "cell_type": "code",
      "execution_count": null,
      "metadata": {
        "id": "wF9a-jbjWAf5"
      },
      "outputs": [],
      "source": [
        "# libraries for dataset preparation, feature engineering\n",
        "import numpy as np\n",
        "import matplotlib.pyplot as plt\n",
        "import pandas as pd\n",
        "from sklearn import model_selection, preprocessing\n",
        "from sklearn.feature_extraction.text import TfidfVectorizer\n",
        "\n",
        "np.random.seed(123) #for reprodicible results\n",
        "%matplotlib inline"
      ]
    },
    {
      "cell_type": "code",
      "source": [
        "from google.colab import drive\n",
        "drive.mount('/content/drive')"
      ],
      "metadata": {
        "colab": {
          "base_uri": "https://localhost:8080/"
        },
        "id": "PMtW_qw9eDU0",
        "outputId": "96fd68d6-be99-41e4-d831-f9f5a06cc289"
      },
      "execution_count": null,
      "outputs": [
        {
          "output_type": "stream",
          "name": "stdout",
          "text": [
            "Mounted at /content/drive\n"
          ]
        }
      ]
    },
    {
      "cell_type": "markdown",
      "metadata": {
        "collapsed": true,
        "id": "SHpvjfBSWAf6"
      },
      "source": [
        "## 2 - Dataset preparation ##\n",
        "\n",
        "**Problem Statement**:\n",
        "\n",
        "You are given a dataset (\"news_dataset.csv\") containing a set of Vietnamses news labeled as politics-society (y=\"Chinhtrixahoi\"), sport (y=\"Thethao) or others (y=\"Khac\")\n",
        "* Actually, \"Khac\" comprises of \"Phap luat\", \"Kinh doanh\", \"Doi song\", \"The gioi\" news\n",
        "\n",
        "You will build a simple news-classification algorithm that can correctly classify news.\n",
        "\n",
        "Let's get more familiar with the dataset. Load the data by running the following code."
      ]
    },
    {
      "cell_type": "code",
      "execution_count": null,
      "metadata": {
        "id": "LwWKw1BYWAf6"
      },
      "outputs": [],
      "source": [
        "df = pd.read_csv('/content/drive/MyDrive/NLP_LogisticClassification/Dataset.csv')"
      ]
    },
    {
      "cell_type": "code",
      "execution_count": null,
      "metadata": {
        "scrolled": true,
        "id": "kx-fnoFmWAf6",
        "outputId": "b34d0473-f944-4ce1-9b02-0f600c35dc8b",
        "colab": {
          "base_uri": "https://localhost:8080/",
          "height": 363
        }
      },
      "outputs": [
        {
          "output_type": "execute_result",
          "data": {
            "text/plain": [
              "                                                text          label\n",
              "0  Trong khi đó, Indonesia với chiến thắng trước ...        Thethao\n",
              "1  Như vậy, tổng cộng Việt Nam đã bị trừ 41,06 đi...        Thethao\n",
              "2  Đến giờ, người hâm mộ bóng đá Việt Nam vẫn chư...        Thethao\n",
              "3  Không có gì chán hơn là làm việc và sống giữa ...           Khac\n",
              "4   Cún con chứa ma túy Cún con - nạn nhân của bọ...           Khac\n",
              "5   Xây dựng tổ chức Đoàn thật sự là người bạn củ...  Chinhtrixahoi\n",
              "6   Lãnh đạo Công ty Vissan: Đây là bài học đau x...           Khac\n",
              "7  Giải bóng rổ vô địch Hà Nội 2023 diễn ra từ ng...        Thethao\n",
              "8  Nội dung nữ, 5 đội bóng sẽ thi đấu vòng tròn t...        Thethao\n",
              "9  Ban tổ chức cho phép mỗi đội được đăng ký khôn...        Thethao"
            ],
            "text/html": [
              "\n",
              "  <div id=\"df-1050c9c2-7a8c-406a-a45f-85dfe77c46b6\" class=\"colab-df-container\">\n",
              "    <div>\n",
              "<style scoped>\n",
              "    .dataframe tbody tr th:only-of-type {\n",
              "        vertical-align: middle;\n",
              "    }\n",
              "\n",
              "    .dataframe tbody tr th {\n",
              "        vertical-align: top;\n",
              "    }\n",
              "\n",
              "    .dataframe thead th {\n",
              "        text-align: right;\n",
              "    }\n",
              "</style>\n",
              "<table border=\"1\" class=\"dataframe\">\n",
              "  <thead>\n",
              "    <tr style=\"text-align: right;\">\n",
              "      <th></th>\n",
              "      <th>text</th>\n",
              "      <th>label</th>\n",
              "    </tr>\n",
              "  </thead>\n",
              "  <tbody>\n",
              "    <tr>\n",
              "      <th>0</th>\n",
              "      <td>Trong khi đó, Indonesia với chiến thắng trước ...</td>\n",
              "      <td>Thethao</td>\n",
              "    </tr>\n",
              "    <tr>\n",
              "      <th>1</th>\n",
              "      <td>Như vậy, tổng cộng Việt Nam đã bị trừ 41,06 đi...</td>\n",
              "      <td>Thethao</td>\n",
              "    </tr>\n",
              "    <tr>\n",
              "      <th>2</th>\n",
              "      <td>Đến giờ, người hâm mộ bóng đá Việt Nam vẫn chư...</td>\n",
              "      <td>Thethao</td>\n",
              "    </tr>\n",
              "    <tr>\n",
              "      <th>3</th>\n",
              "      <td>Không có gì chán hơn là làm việc và sống giữa ...</td>\n",
              "      <td>Khac</td>\n",
              "    </tr>\n",
              "    <tr>\n",
              "      <th>4</th>\n",
              "      <td>Cún con chứa ma túy Cún con - nạn nhân của bọ...</td>\n",
              "      <td>Khac</td>\n",
              "    </tr>\n",
              "    <tr>\n",
              "      <th>5</th>\n",
              "      <td>Xây dựng tổ chức Đoàn thật sự là người bạn củ...</td>\n",
              "      <td>Chinhtrixahoi</td>\n",
              "    </tr>\n",
              "    <tr>\n",
              "      <th>6</th>\n",
              "      <td>Lãnh đạo Công ty Vissan: Đây là bài học đau x...</td>\n",
              "      <td>Khac</td>\n",
              "    </tr>\n",
              "    <tr>\n",
              "      <th>7</th>\n",
              "      <td>Giải bóng rổ vô địch Hà Nội 2023 diễn ra từ ng...</td>\n",
              "      <td>Thethao</td>\n",
              "    </tr>\n",
              "    <tr>\n",
              "      <th>8</th>\n",
              "      <td>Nội dung nữ, 5 đội bóng sẽ thi đấu vòng tròn t...</td>\n",
              "      <td>Thethao</td>\n",
              "    </tr>\n",
              "    <tr>\n",
              "      <th>9</th>\n",
              "      <td>Ban tổ chức cho phép mỗi đội được đăng ký khôn...</td>\n",
              "      <td>Thethao</td>\n",
              "    </tr>\n",
              "  </tbody>\n",
              "</table>\n",
              "</div>\n",
              "    <div class=\"colab-df-buttons\">\n",
              "\n",
              "  <div class=\"colab-df-container\">\n",
              "    <button class=\"colab-df-convert\" onclick=\"convertToInteractive('df-1050c9c2-7a8c-406a-a45f-85dfe77c46b6')\"\n",
              "            title=\"Convert this dataframe to an interactive table.\"\n",
              "            style=\"display:none;\">\n",
              "\n",
              "  <svg xmlns=\"http://www.w3.org/2000/svg\" height=\"24px\" viewBox=\"0 -960 960 960\">\n",
              "    <path d=\"M120-120v-720h720v720H120Zm60-500h600v-160H180v160Zm220 220h160v-160H400v160Zm0 220h160v-160H400v160ZM180-400h160v-160H180v160Zm440 0h160v-160H620v160ZM180-180h160v-160H180v160Zm440 0h160v-160H620v160Z\"/>\n",
              "  </svg>\n",
              "    </button>\n",
              "\n",
              "  <style>\n",
              "    .colab-df-container {\n",
              "      display:flex;\n",
              "      gap: 12px;\n",
              "    }\n",
              "\n",
              "    .colab-df-convert {\n",
              "      background-color: #E8F0FE;\n",
              "      border: none;\n",
              "      border-radius: 50%;\n",
              "      cursor: pointer;\n",
              "      display: none;\n",
              "      fill: #1967D2;\n",
              "      height: 32px;\n",
              "      padding: 0 0 0 0;\n",
              "      width: 32px;\n",
              "    }\n",
              "\n",
              "    .colab-df-convert:hover {\n",
              "      background-color: #E2EBFA;\n",
              "      box-shadow: 0px 1px 2px rgba(60, 64, 67, 0.3), 0px 1px 3px 1px rgba(60, 64, 67, 0.15);\n",
              "      fill: #174EA6;\n",
              "    }\n",
              "\n",
              "    .colab-df-buttons div {\n",
              "      margin-bottom: 4px;\n",
              "    }\n",
              "\n",
              "    [theme=dark] .colab-df-convert {\n",
              "      background-color: #3B4455;\n",
              "      fill: #D2E3FC;\n",
              "    }\n",
              "\n",
              "    [theme=dark] .colab-df-convert:hover {\n",
              "      background-color: #434B5C;\n",
              "      box-shadow: 0px 1px 3px 1px rgba(0, 0, 0, 0.15);\n",
              "      filter: drop-shadow(0px 1px 2px rgba(0, 0, 0, 0.3));\n",
              "      fill: #FFFFFF;\n",
              "    }\n",
              "  </style>\n",
              "\n",
              "    <script>\n",
              "      const buttonEl =\n",
              "        document.querySelector('#df-1050c9c2-7a8c-406a-a45f-85dfe77c46b6 button.colab-df-convert');\n",
              "      buttonEl.style.display =\n",
              "        google.colab.kernel.accessAllowed ? 'block' : 'none';\n",
              "\n",
              "      async function convertToInteractive(key) {\n",
              "        const element = document.querySelector('#df-1050c9c2-7a8c-406a-a45f-85dfe77c46b6');\n",
              "        const dataTable =\n",
              "          await google.colab.kernel.invokeFunction('convertToInteractive',\n",
              "                                                    [key], {});\n",
              "        if (!dataTable) return;\n",
              "\n",
              "        const docLinkHtml = 'Like what you see? Visit the ' +\n",
              "          '<a target=\"_blank\" href=https://colab.research.google.com/notebooks/data_table.ipynb>data table notebook</a>'\n",
              "          + ' to learn more about interactive tables.';\n",
              "        element.innerHTML = '';\n",
              "        dataTable['output_type'] = 'display_data';\n",
              "        await google.colab.output.renderOutput(dataTable, element);\n",
              "        const docLink = document.createElement('div');\n",
              "        docLink.innerHTML = docLinkHtml;\n",
              "        element.appendChild(docLink);\n",
              "      }\n",
              "    </script>\n",
              "  </div>\n",
              "\n",
              "\n",
              "<div id=\"df-52124b60-d521-4de1-bc0a-be32bdfd9735\">\n",
              "  <button class=\"colab-df-quickchart\" onclick=\"quickchart('df-52124b60-d521-4de1-bc0a-be32bdfd9735')\"\n",
              "            title=\"Suggest charts\"\n",
              "            style=\"display:none;\">\n",
              "\n",
              "<svg xmlns=\"http://www.w3.org/2000/svg\" height=\"24px\"viewBox=\"0 0 24 24\"\n",
              "     width=\"24px\">\n",
              "    <g>\n",
              "        <path d=\"M19 3H5c-1.1 0-2 .9-2 2v14c0 1.1.9 2 2 2h14c1.1 0 2-.9 2-2V5c0-1.1-.9-2-2-2zM9 17H7v-7h2v7zm4 0h-2V7h2v10zm4 0h-2v-4h2v4z\"/>\n",
              "    </g>\n",
              "</svg>\n",
              "  </button>\n",
              "\n",
              "<style>\n",
              "  .colab-df-quickchart {\n",
              "      --bg-color: #E8F0FE;\n",
              "      --fill-color: #1967D2;\n",
              "      --hover-bg-color: #E2EBFA;\n",
              "      --hover-fill-color: #174EA6;\n",
              "      --disabled-fill-color: #AAA;\n",
              "      --disabled-bg-color: #DDD;\n",
              "  }\n",
              "\n",
              "  [theme=dark] .colab-df-quickchart {\n",
              "      --bg-color: #3B4455;\n",
              "      --fill-color: #D2E3FC;\n",
              "      --hover-bg-color: #434B5C;\n",
              "      --hover-fill-color: #FFFFFF;\n",
              "      --disabled-bg-color: #3B4455;\n",
              "      --disabled-fill-color: #666;\n",
              "  }\n",
              "\n",
              "  .colab-df-quickchart {\n",
              "    background-color: var(--bg-color);\n",
              "    border: none;\n",
              "    border-radius: 50%;\n",
              "    cursor: pointer;\n",
              "    display: none;\n",
              "    fill: var(--fill-color);\n",
              "    height: 32px;\n",
              "    padding: 0;\n",
              "    width: 32px;\n",
              "  }\n",
              "\n",
              "  .colab-df-quickchart:hover {\n",
              "    background-color: var(--hover-bg-color);\n",
              "    box-shadow: 0 1px 2px rgba(60, 64, 67, 0.3), 0 1px 3px 1px rgba(60, 64, 67, 0.15);\n",
              "    fill: var(--button-hover-fill-color);\n",
              "  }\n",
              "\n",
              "  .colab-df-quickchart-complete:disabled,\n",
              "  .colab-df-quickchart-complete:disabled:hover {\n",
              "    background-color: var(--disabled-bg-color);\n",
              "    fill: var(--disabled-fill-color);\n",
              "    box-shadow: none;\n",
              "  }\n",
              "\n",
              "  .colab-df-spinner {\n",
              "    border: 2px solid var(--fill-color);\n",
              "    border-color: transparent;\n",
              "    border-bottom-color: var(--fill-color);\n",
              "    animation:\n",
              "      spin 1s steps(1) infinite;\n",
              "  }\n",
              "\n",
              "  @keyframes spin {\n",
              "    0% {\n",
              "      border-color: transparent;\n",
              "      border-bottom-color: var(--fill-color);\n",
              "      border-left-color: var(--fill-color);\n",
              "    }\n",
              "    20% {\n",
              "      border-color: transparent;\n",
              "      border-left-color: var(--fill-color);\n",
              "      border-top-color: var(--fill-color);\n",
              "    }\n",
              "    30% {\n",
              "      border-color: transparent;\n",
              "      border-left-color: var(--fill-color);\n",
              "      border-top-color: var(--fill-color);\n",
              "      border-right-color: var(--fill-color);\n",
              "    }\n",
              "    40% {\n",
              "      border-color: transparent;\n",
              "      border-right-color: var(--fill-color);\n",
              "      border-top-color: var(--fill-color);\n",
              "    }\n",
              "    60% {\n",
              "      border-color: transparent;\n",
              "      border-right-color: var(--fill-color);\n",
              "    }\n",
              "    80% {\n",
              "      border-color: transparent;\n",
              "      border-right-color: var(--fill-color);\n",
              "      border-bottom-color: var(--fill-color);\n",
              "    }\n",
              "    90% {\n",
              "      border-color: transparent;\n",
              "      border-bottom-color: var(--fill-color);\n",
              "    }\n",
              "  }\n",
              "</style>\n",
              "\n",
              "  <script>\n",
              "    async function quickchart(key) {\n",
              "      const quickchartButtonEl =\n",
              "        document.querySelector('#' + key + ' button');\n",
              "      quickchartButtonEl.disabled = true;  // To prevent multiple clicks.\n",
              "      quickchartButtonEl.classList.add('colab-df-spinner');\n",
              "      try {\n",
              "        const charts = await google.colab.kernel.invokeFunction(\n",
              "            'suggestCharts', [key], {});\n",
              "      } catch (error) {\n",
              "        console.error('Error during call to suggestCharts:', error);\n",
              "      }\n",
              "      quickchartButtonEl.classList.remove('colab-df-spinner');\n",
              "      quickchartButtonEl.classList.add('colab-df-quickchart-complete');\n",
              "    }\n",
              "    (() => {\n",
              "      let quickchartButtonEl =\n",
              "        document.querySelector('#df-52124b60-d521-4de1-bc0a-be32bdfd9735 button');\n",
              "      quickchartButtonEl.style.display =\n",
              "        google.colab.kernel.accessAllowed ? 'block' : 'none';\n",
              "    })();\n",
              "  </script>\n",
              "</div>\n",
              "    </div>\n",
              "  </div>\n"
            ]
          },
          "metadata": {},
          "execution_count": 4
        }
      ],
      "source": [
        "# The dataframe has two columns, text and label\n",
        "df.head(10)"
      ]
    },
    {
      "cell_type": "code",
      "execution_count": null,
      "metadata": {
        "scrolled": true,
        "id": "AYsuBQ3rWAf7",
        "outputId": "2ad410f1-d636-4774-c54d-ba1bc8edca6d",
        "colab": {
          "base_uri": "https://localhost:8080/"
        }
      },
      "outputs": [
        {
          "output_type": "stream",
          "name": "stdout",
          "text": [
            "Number of politics-society documents: 198\n",
            "Number of sport documents: 200\n",
            "Number of other documents: 202\n"
          ]
        }
      ],
      "source": [
        "size_chinhtri = df[df['label'] == 'Chinhtrixahoi'].shape[0]\n",
        "size_thethao = df[df['label'] == 'Thethao'].shape[0]\n",
        "size_others = df[df['label'] == 'Khac'].shape[0]\n",
        "print('Number of politics-society documents: %s' %size_chinhtri)\n",
        "print('Number of sport documents: %s' %size_thethao)\n",
        "print('Number of other documents: %s' %size_others)"
      ]
    },
    {
      "cell_type": "code",
      "execution_count": null,
      "metadata": {
        "scrolled": true,
        "id": "Gdpvbmc1WAf7",
        "outputId": "2df97337-a36f-4688-e600-0e216c8a269d",
        "colab": {
          "base_uri": "https://localhost:8080/",
          "height": 88
        }
      },
      "outputs": [
        {
          "output_type": "execute_result",
          "data": {
            "text/plain": [
              "' Xây dựng tổ chức Đoàn thật sự là người bạn của thanh niên  \\n (NLĐ)- Sáng 26-3, Thành đoàn TPHCM đã tổ chức trọng thể lễ mít tinh kỷ niệm 75 năm ngày thành lập Đoàn TNCS Hồ Chí Minh (26.3.1931 - 26.3.2006).  \\n Các ông Nguyễn Minh Triết, Ủy viên Bộ Chính trị - Bí thư Thành ủy TP; Võ Văn Kiệt, nguyên Thủ tướng Chính phủ cùng lãnh đạo HĐND, UBND, các ban - ngành TP và 10.000 đoàn viên TNCS đã tham dự mít tinh.  \\n Ông Tất Thành Cang, Bí thư Thành đoàn TPHCM, ôn lại truyền thống vẻ vang của Đoàn TNCS Hồ Chí Minh và nhấn mạnh: “Tổ chức Đoàn đang đối mặt với những khó khăn, thách thức mới. Đó là tình trạng thất nghiệp, tệ nạn xã hội; một bộ phận thanh niên thiếu rèn luyện, chậm tiến, chưa ý thức được trách nhiệm của mình đối với bản thân, gia đình và xã hội... Do vậy, mỗi cán bộ, đoàn viên hãy nỗ lực vươn lên, sống xứng đáng với danh hiệu cao quý “Đoàn viên TNCS Hồ Chí Minh”.  \\n Thay mặt lãnh đạo TPHCM, bà Phạm Phương Thảo, Phó Bí thư Thành ủy, đã giao cho Thành đoàn TPHCM nhiệm vụ xây dựng hình ảnh người thanh niên trong thời kỳ công nghiệp hóa - hiện đại hóa; xây dựng tổ chức Đoàn thật sự là người bạn của thanh niên và chăm lo xây dựng đội ngũ cán bộ Đoàn đủ sức làm nòng cốt xây dựng Đoàn vững mạnh. ? Trước đó, tối 25-3, tại Hà Nội, Trung ương Đoàn TNCS Hồ Chí Minh đã long trọng tổ chức mít tinh kỷ niệm 75 năm thành lập Đoàn. Thay mặt Ban Chấp hành Trung ương Đảng, Tổng Bí thư Nông Đức Mạnh đã trao tặng Trung ương Đoàn và tuổi trẻ Việt Nam bức trướng mang dòng chữ “Phát huy truyền thống 75 năm xây dựng và phát triển, Đoàn TNCS Hồ Chí Minh và tuổi trẻ Việt Nam đoàn kết, xung kích, sáng tạo trong sự nghiệp xây dựng và bảo vệ Tổ quốc”.  \\n  \\n '"
            ],
            "application/vnd.google.colaboratory.intrinsic+json": {
              "type": "string"
            }
          },
          "metadata": {},
          "execution_count": 6
        }
      ],
      "source": [
        "# an example of a politics-society news\n",
        "df['text'][5]"
      ]
    },
    {
      "cell_type": "code",
      "source": [
        "# an example of a sport news\n",
        "df['text'][2]"
      ],
      "metadata": {
        "colab": {
          "base_uri": "https://localhost:8080/",
          "height": 36
        },
        "id": "kgQvXXNyfdtA",
        "outputId": "1f844d13-82ca-4b93-963d-e40a304de6d4"
      },
      "execution_count": null,
      "outputs": [
        {
          "output_type": "execute_result",
          "data": {
            "text/plain": [
              "'Đến giờ, người hâm mộ bóng đá Việt Nam vẫn chưa hiểu tại sao trung vệ Thanh Bình lại nắm và kéo áo cầu thủ Indonesia một cách lộ liễu đến vậy. Nhất là khi đó là một tình huống trong vòng 16m50.'"
            ],
            "application/vnd.google.colaboratory.intrinsic+json": {
              "type": "string"
            }
          },
          "metadata": {},
          "execution_count": 7
        }
      ]
    },
    {
      "cell_type": "markdown",
      "metadata": {
        "id": "EBpUZ0T5WAf7"
      },
      "source": [
        "Next, we will split the dataset into training and test sets so that we can train and test classifier. Also, we will encode our target column so that it can be used in our model."
      ]
    },
    {
      "cell_type": "code",
      "execution_count": null,
      "metadata": {
        "scrolled": true,
        "id": "Jir3dGpMWAf7",
        "outputId": "6ba0f3cf-5439-41f6-a563-1d987e476992",
        "colab": {
          "base_uri": "https://localhost:8080/"
        }
      },
      "outputs": [
        {
          "output_type": "stream",
          "name": "stdout",
          "text": [
            "[\"Chinhtrixahoi\" \"Thethao\" \"Khac\"] labels corresponds to [0 2 1] labels\n"
          ]
        }
      ],
      "source": [
        "# split the dataset into training and test datasets\n",
        "train_x, test_x, train_y, test_y = model_selection.train_test_split(df['text'], df['label'])\n",
        "\n",
        "# label encode the target variable, encode 3 labels\n",
        "encoder = preprocessing.LabelEncoder()\n",
        "train_y = encoder.fit_transform(train_y)\n",
        "test_y = encoder.fit_transform(test_y)\n",
        "print('[\"Chinhtrixahoi\" \"Thethao\" \"Khac\"] labels corresponds to %s labels' %encoder.transform([\"Chinhtrixahoi\", \"Thethao\",\"Khac\"]))"
      ]
    },
    {
      "cell_type": "markdown",
      "metadata": {
        "id": "SPcgu5VxWAf7"
      },
      "source": [
        "The next step is the feature engineering step. In this step, raw text data will be transformed into feature vectors and new features will be created using the existing dataset."
      ]
    },
    {
      "cell_type": "markdown",
      "metadata": {
        "id": "eVsi67dQWAf7"
      },
      "source": [
        "### TF-IDF Vectors as features\n",
        "TF-IDF score represents the relative importance of a term in the document and the entire corpus. TF-IDF score is composed by two terms: the first computes the normalized Term Frequency (TF), the second term is the Inverse Document Frequency (IDF), computed as the logarithm of the number of the documents in the corpus divided by the number of documents where the specific term appears.\n",
        "\n",
        "TF(t) = (Number of times term t appears in a document) / (Total number of terms in the document)\n",
        "\n",
        "IDF(t) = log_e(Total number of documents / Number of documents with term t in it)\n",
        "\n",
        "TF-IDF Vectors can be generated at different levels of input tokens (words, characters, n-grams)"
      ]
    },
    {
      "cell_type": "code",
      "execution_count": null,
      "metadata": {
        "id": "w_4NfEqmWAf7"
      },
      "outputs": [],
      "source": [
        "# word level tf-idf\n",
        "tfidf_vect = TfidfVectorizer(analyzer='word', token_pattern=r'\\w{1,}', max_features=5000)\n",
        "tfidf_vect.fit(df['text'])\n",
        "xtrain_tfidf =  tfidf_vect.transform(train_x)\n",
        "xtest_tfidf =  tfidf_vect.transform(test_x)"
      ]
    },
    {
      "cell_type": "code",
      "execution_count": null,
      "metadata": {
        "id": "OodqenpjWAf7",
        "outputId": "b8182efb-6320-4191-8774-f8ec4bb3827d",
        "colab": {
          "base_uri": "https://localhost:8080/"
        }
      },
      "outputs": [
        {
          "output_type": "stream",
          "name": "stdout",
          "text": [
            "Number of training documents: 450\n",
            "Number of testing documents: 150\n",
            "Number of features of each document: 5000\n",
            "xtrain_tfidf shape: (450, 5000)\n",
            "train_y shape: (450,)\n",
            "xtest_tfidf shape: (150, 5000)\n",
            "test_y shape: (150,)\n"
          ]
        }
      ],
      "source": [
        "# Getting transformed training and testing dataset\n",
        "print('Number of training documents: %s' %str(xtrain_tfidf.shape[0]))\n",
        "print('Number of testing documents: %s' %str(xtest_tfidf.shape[0]))\n",
        "print('Number of features of each document: %s' %str(xtrain_tfidf.shape[1]))\n",
        "print('xtrain_tfidf shape: %s' %str(xtrain_tfidf.shape))\n",
        "print('train_y shape: %s' %str(train_y.shape))\n",
        "print('xtest_tfidf shape: %s' %str(xtest_tfidf.shape))\n",
        "print('test_y shape: %s' %str(test_y.shape))"
      ]
    },
    {
      "cell_type": "markdown",
      "metadata": {
        "id": "yFK45iKFWAf8"
      },
      "source": [
        "Many software bugs in deep learning come from having matrix/vector dimensions that don't fit. If you can keep your matrix/vector dimensions straight you will go a long way toward eliminating many bugs.\n",
        "\n",
        "**Exercise:**: For convenience, you should now transpose the training and testing numpy-array, and expand the shape of the lable arrays in the axis=0 position.\n",
        "\n",
        "After this, our training (and test) dataset is a numpy-array where each column represents a document vector. There should be the number of training documents (respectively the number of testing documents) as the number of columns."
      ]
    },
    {
      "cell_type": "code",
      "execution_count": null,
      "metadata": {
        "id": "Lwk8NEgGWAf8"
      },
      "outputs": [],
      "source": [
        "### START CODE HERE ###\n",
        "train_y = np.expand_dims(train_y, axis=0)\n",
        "test_y = np.expand_dims(test_y, axis=0)\n",
        "\n",
        "# for convenience in this exercise, we also use toarray() to convert sparse to dense matrix\n",
        "xtrain_tfidf =  xtrain_tfidf.T.toarray()\n",
        "xtest_tfidf =  xtest_tfidf.T.toarray()\n",
        "### END CODE HERE ###"
      ]
    },
    {
      "cell_type": "code",
      "execution_count": null,
      "metadata": {
        "id": "K32vgff4WAf8",
        "outputId": "1f4c4c77-4d31-4734-ecee-de1c85d5f57b",
        "colab": {
          "base_uri": "https://localhost:8080/"
        }
      },
      "outputs": [
        {
          "output_type": "stream",
          "name": "stdout",
          "text": [
            "xtrain_tfidf shape: (5000, 450)\n",
            "train_y shape: (1, 450)\n",
            "xtest_tfidf shape: (5000, 150)\n",
            "test_y shape: (1, 150)\n"
          ]
        }
      ],
      "source": [
        "# New shape\n",
        "print('xtrain_tfidf shape: %s' %str(xtrain_tfidf.shape))\n",
        "print('train_y shape: %s' %str(train_y.shape))\n",
        "print('xtest_tfidf shape: %s' %str(xtest_tfidf.shape))\n",
        "print('test_y shape: %s' %str(test_y.shape))"
      ]
    },
    {
      "cell_type": "markdown",
      "metadata": {
        "id": "U_9UqNbJWAf8"
      },
      "source": [
        "## 3 - General Architecture of the learning algorithm ##\n",
        "\n",
        "It's time to design a simple algorithm to distinguish politics-society news from other news.\n",
        "\n",
        "You will build a Logistic Regression, using a Neural Network mindset. The following Figure explains why **Logistic Regression is actually a very simple Neural Network!**\n",
        "\n",
        "**The below image is an analogy of the network architecture of an image classifier to a text classifier.**\n",
        "\n",
        "<img src=\"images/LogReg_kiank.png\" style=\"width:650px;height:400px;\">\n",
        "\n",
        "**Mathematical expression of the algorithm**:\n",
        "\n",
        "For one example $x^{(i)}$:\n",
        "$$z^{(i)} = w^T x^{(i)} + b \\tag{1}$$\n",
        "$$\\hat{y}^{(i)} = a^{(i)} = sigmoid(z^{(i)})\\tag{2}$$\n",
        "$$ \\mathcal{L}(a^{(i)}, y^{(i)}) =  - y^{(i)}  \\log(a^{(i)}) - (1-y^{(i)} )  \\log(1-a^{(i)})\\tag{3}$$\n",
        "\n",
        "The cost is then computed by summing over all training examples:\n",
        "$$ J = \\frac{1}{m} \\sum_{i=1}^m \\mathcal{L}(a^{(i)}, y^{(i)})\\tag{6}$$\n",
        "\n",
        "**Key steps**:\n",
        "In this exercise, you will carry out the following steps:\n",
        "    - Initialize the parameters of the model\n",
        "    - Learn the parameters for the model by minimizing the cost  \n",
        "    - Use the learned parameters to make predictions (on the test set)\n",
        "    - Analyse the results and conclude"
      ]
    },
    {
      "cell_type": "markdown",
      "metadata": {
        "id": "HI6fU2JsWAf8"
      },
      "source": [
        "## 4 - Building the parts of our algorithm ##\n",
        "\n",
        "The main steps for building a Neural Network are:\n",
        "1. Define the model structure (such as number of input features)\n",
        "2. Initialize the model's parameters\n",
        "3. Loop:\n",
        "    - Calculate current loss (forward propagation)\n",
        "    - Calculate current gradient (backward propagation)\n",
        "    - Update parameters (gradient descent)\n",
        "\n",
        "You often build 1-3 separately and integrate them into one function we call `model()`.\n",
        "\n",
        "### 4.1 - Helper functions\n"
      ]
    },
    {
      "cell_type": "markdown",
      "source": [
        "The *softmax function*, invented in 1959 by the social scientist\n",
        "R Duncan Luce in the context of *choice models* does precisely this.\n",
        "To transform our logits such that they become nonnegative and sum to $1$,\n",
        "while requiring that the model remains differentiable,\n",
        "we first exponentiate each logit (ensuring non-negativity)\n",
        "and then divide by their sum (ensuring that they sum to $1$).\n",
        "\n",
        "$$\n",
        "\\hat{\\mathbf{y}} = \\mathrm{softmax}(\\mathbf{o})\\quad \\text{where}\\quad\n",
        "\\hat{y}_i = \\frac{\\exp(o_i)}{\\sum_j \\exp(o_j)}.\n",
        "$$"
      ],
      "metadata": {
        "id": "Aj-VwgbqLDto"
      }
    },
    {
      "cell_type": "code",
      "source": [
        "def softmax(Z):\n",
        "    e_Z = np.exp(Z - np.max(Z, axis = 0, keepdims = True))\n",
        "    A = e_Z / e_Z.sum(axis = 0)\n",
        "    return A\n",
        "\n"
      ],
      "metadata": {
        "id": "zxp3aLlGL7iF"
      },
      "execution_count": null,
      "outputs": []
    },
    {
      "cell_type": "code",
      "source": [
        "\n",
        "#test function\n",
        "print (\"softmax([0 1 0 0 1 2]) = \" + str(softmax(np.array([0,1,0,0,1,2]))))"
      ],
      "metadata": {
        "colab": {
          "base_uri": "https://localhost:8080/"
        },
        "id": "cM67pDHSME0W",
        "outputId": "48919ed3-8af5-49dc-ef4a-b4e25f08b993"
      },
      "execution_count": null,
      "outputs": [
        {
          "output_type": "stream",
          "name": "stdout",
          "text": [
            "softmax([0 1 0 0 1 2]) = [0.06318868 0.17176464 0.06318868 0.06318868 0.17176464 0.46690469]\n"
          ]
        }
      ]
    },
    {
      "cell_type": "code",
      "source": [
        "from scipy import sparse\n",
        "def convert_labels(y, C = 3):\n",
        "    \"\"\"\n",
        "    convert 1d label to a matrix label: each column of this\n",
        "    matrix coresponding to 1 element in y. In i-th column of Y,\n",
        "    only one non-zeros element located in the y[i]-th position,\n",
        "    and = 1 ex: y = [0, 2, 1, 0], and 3 classes then return\n",
        "\n",
        "            [[1, 0, 0, 1],\n",
        "             [0, 0, 1, 0],\n",
        "             [0, 1, 0, 0]]\n",
        "    \"\"\"\n",
        "    Y = sparse.coo_matrix((np.ones_like(y),\n",
        "        (y, np.arange(len(y)))), shape = (C, len(y))).toarray()\n",
        "    return Y\n"
      ],
      "metadata": {
        "id": "WBX9BRoxosPp"
      },
      "execution_count": null,
      "outputs": []
    },
    {
      "cell_type": "code",
      "source": [
        "label1 = convert_labels([1,2,0], )\n",
        "print(label1)"
      ],
      "metadata": {
        "colab": {
          "base_uri": "https://localhost:8080/"
        },
        "id": "R5_EBtvjo0GA",
        "outputId": "c066cb1d-245f-4a5c-e321-07913c164443"
      },
      "execution_count": null,
      "outputs": [
        {
          "output_type": "stream",
          "name": "stdout",
          "text": [
            "[[0 0 1]\n",
            " [1 0 0]\n",
            " [0 1 0]]\n"
          ]
        }
      ]
    },
    {
      "cell_type": "markdown",
      "metadata": {
        "id": "wcq5zRpxWAf9"
      },
      "source": [
        "### 4.2 - Initializing parameters\n",
        "\n",
        "**Exercise:** Implement parameter initialization in the cell below. You have to initialize w as a vector of zeros. If you don't know what numpy function to use, look up np.zeros() in the Numpy library's documentation."
      ]
    },
    {
      "cell_type": "code",
      "execution_count": null,
      "metadata": {
        "id": "f4zacY2jWAf-"
      },
      "outputs": [],
      "source": [
        "# GRADED FUNCTION: initialize_with_zeros\n",
        "\n",
        "def initialize_with_zeros(dim):\n",
        "    \"\"\"\n",
        "    This function creates a vector of zeros of shape (dim, 1) for w and initializes b to 0.\n",
        "\n",
        "    Argument:\n",
        "    dim -- size of the w vector we want (or number of parameters in this case)\n",
        "\n",
        "    Returns:\n",
        "    w -- initialized vector of shape (dim, 1)\n",
        "    b -- initialized scalar (corresponds to the bias)\n",
        "    \"\"\"\n",
        "\n",
        "    ### START CODE HERE ### (≈ 1 line of code)\n",
        "    w = np.zeros((dim, 3)) #3 is the num of label\n",
        "    b = 0.\n",
        "    ### END CODE HERE ###\n",
        "\n",
        "    assert(w.shape == (dim, 3))\n",
        "    assert(isinstance(b, float) or isinstance(b, int))\n",
        "\n",
        "    return w, b"
      ]
    },
    {
      "cell_type": "code",
      "execution_count": null,
      "metadata": {
        "id": "If_KPgyVWAf-",
        "outputId": "c8f3fd84-5a19-4445-aef7-8331ea3e8cde",
        "colab": {
          "base_uri": "https://localhost:8080/"
        }
      },
      "outputs": [
        {
          "output_type": "stream",
          "name": "stdout",
          "text": [
            "w = [[0. 0. 0.]\n",
            " [0. 0. 0.]]\n",
            "b = 0.0\n"
          ]
        }
      ],
      "source": [
        "dim = 2\n",
        "w, b = initialize_with_zeros(dim)\n",
        "print (\"w = \" + str(w))\n",
        "print (\"b = \" + str(b))"
      ]
    },
    {
      "cell_type": "markdown",
      "metadata": {
        "id": "c5G3ifkUWAf-"
      },
      "source": [
        "### Softmax and Derivatives\n",
        "\n",
        "Since the softmax and the corresponding loss are so common,\n",
        "it is worth while understanding a bit better how it is computed.\n",
        "Plugging $o$ into the definition of the loss $l$\n",
        "and using the definition of the softmax we obtain:\n",
        "\n",
        "$$\n",
        "l = -\\sum_j y_j \\log \\hat{y}_j = \\sum_j y_j \\log \\sum_k \\exp(o_k) - \\sum_j y_j o_j\n",
        "= \\log \\sum_k \\exp(o_k) - \\sum_j y_j o_j.\n",
        "$$\n",
        "\n",
        "To understand a bit better what is going on,\n",
        "consider the derivative with respect to $o$. We get\n",
        "\n",
        "$$\n",
        "\\partial_{o_j} l = \\frac{\\exp(o_j)}{\\sum_k \\exp(o_k)} - y_j = \\mathrm{softmax}(\\mathbf{o})_j - y_j = P(y = j \\mid x) - y_j.\n",
        "$$\n",
        "\n",
        "In other words, the gradient is the difference\n",
        "between the probability assigned to the true class by our model,\n",
        "as expressed by the probability $P(y \\mid x)$,\n",
        "and what actually happened, as expressed by $y$.\n",
        "In this sense, it is very similar to what we saw in regression,\n",
        "where the gradient was the difference\n",
        "between the observation $y$ and estimate $\\hat{y}$. This is not coincidence.\n",
        "In any [exponential family](https://en.wikipedia.org/wiki/Exponential_family) model,\n",
        "the gradients of the log-likelihood are given by precisely this term.\n",
        "This fact makes computing gradients easy in practice.\n",
        "### Cross-Entropy Loss\n",
        "\n",
        "Now consider the case where we observe not just a single outcome\n",
        "but an entire distribution over outcomes.\n",
        "We can use the same representation as before for $y$.\n",
        "The only difference is that rather than a vector containing only binary entries,\n",
        "say $(0, 0, 1)$, we now have a generic probability vector, say $(0.1, 0.2, 0.7)$.\n",
        "The math that we used previously to define the loss $l$ still works out fine,\n",
        "just that the interpretation is slightly more general.\n",
        "It is the expected value of the loss for a distribution over labels.\n",
        "\n",
        "$$\n",
        "l(\\mathbf{y}, \\hat{\\mathbf{y}}) = - \\sum_j y_j \\log \\hat{y}_j.\n",
        "$$\n",
        "\n",
        "This loss is called the cross-entropy loss and it is\n",
        "one of the most commonly used losses for multiclass classification.\n",
        "We can demystify the name by introducing the basics of information theory."
      ]
    },
    {
      "cell_type": "code",
      "execution_count": null,
      "metadata": {
        "id": "GPGxvLVoWAf-"
      },
      "outputs": [],
      "source": [
        "\n",
        "# GRADED FUNCTION: propagate\n",
        "def compute_cost(A, Y):\n",
        "    return -np.sum(Y*np.log10(A))\n",
        "\n",
        "def grad(X, A, Y):\n",
        "    E = A - Y\n",
        "\n",
        "    return X.dot(E.T)\n",
        "\n",
        "def propagate(w, b, X, Y):\n",
        "    \"\"\"\n",
        "    Implement the cost function and its gradient for the propagation explained above\n",
        "\n",
        "    Arguments:\n",
        "    w -- weights, a numpy array of size (num_px * num_px * 3, 1)\n",
        "    b -- bias, a scalar\n",
        "    X -- data of size (num_px * num_px * 3, number of examples)\n",
        "    Y -- true \"label\" vector of size (1, number of examples)\n",
        "\n",
        "    Return:\n",
        "    cost -- negative log-likelihood cost for logistic regression\n",
        "    dw -- gradient of the loss with respect to w, thus same shape as w\n",
        "    db -- gradient of the loss with respect to b, thus same shape as b\n",
        "    \"\"\"\n",
        "\n",
        "    one_hot_vector = convert_labels(Y, )\n",
        "\n",
        "\n",
        "    # FORWARD PROPAGATION (FROM X TO COST)\n",
        "    Z = np.dot(w.T, X) + b\n",
        "    A = softmax(Z)  # compute activation\n",
        "\n",
        "    # COST FUNCTION\n",
        "    cost = compute_cost(A, one_hot_vector)\n",
        "\n",
        "    # BACKWARD PROPAGATION (TO FIND GRADIENTS)\n",
        "\n",
        "    dw = grad(X, A, one_hot_vector)\n",
        "\n",
        "\n",
        "    # Reshape dw to match the shape of w\n",
        "    dw = dw.reshape(w.shape)\n",
        "\n",
        "    grads = {\"dw\": dw, \"db\": 0}\n",
        "\n",
        "    return grads, cost"
      ]
    },
    {
      "cell_type": "code",
      "execution_count": null,
      "metadata": {
        "id": "AoQyP7LmWAf_",
        "outputId": "4a3077ef-e699-46d3-a08e-a0a95bbd7e75",
        "colab": {
          "base_uri": "https://localhost:8080/"
        }
      },
      "outputs": [
        {
          "output_type": "stream",
          "name": "stdout",
          "text": [
            "Cost for X1: 0.24040963846679836\n"
          ]
        }
      ],
      "source": [
        "# Given data\n",
        "L = 3  # Number of classes\n",
        "X1 = np.array([[2],[1]])\n",
        "\n",
        "\n",
        "# Assuming you have weights w and bias b properly initialized\n",
        "# Initialize w and b with the correct shapes\n",
        "# Specify weights\n",
        "W1 = np.array([0.2, 0.7])\n",
        "W2 = np.array([0.8, 0.4])\n",
        "W3 = np.array([0.3, 0.3])\n",
        "b=0\n",
        "# Combine weights into a matrix W with the correct shape\n",
        "w = np.vstack([W1, W2, W3]).T  # Transpose to have the correct shape\n",
        "\n",
        "# w, b = initialize_with_zeros(X1.shape[0])\n",
        "# Reshape X1 to be a column vector\n",
        "\n",
        "\n",
        "\n",
        "# Convert Y1 to one-hot encoded matrix\n",
        "Y1=[1]\n",
        "# Forward propagation and compute cost using the propagate function\n",
        "grads1, cost1 = propagate(w, b, X1, Y1)\n",
        "\n",
        "print(\"Cost for X1:\", cost1)\n",
        "\n"
      ]
    },
    {
      "cell_type": "markdown",
      "metadata": {
        "id": "Ug9CWfUFWAf_"
      },
      "source": [
        "### 4.4 - Optimization\n",
        "- You have initialized your parameters.\n",
        "- You are also able to compute a cost function and its gradient.\n",
        "- Now, you want to update the parameters using gradient descent.\n",
        "\n",
        "**Exercise:** Write down the optimization function. The goal is to learn $w$ and $b$ by minimizing the cost function $J$. For a parameter $\\theta$, the update rule is $ \\theta = \\theta - \\alpha \\text{ } d\\theta$, where $\\alpha$ is the learning rate."
      ]
    },
    {
      "cell_type": "code",
      "execution_count": null,
      "metadata": {
        "id": "7FnX5rF8WAf_"
      },
      "outputs": [],
      "source": [
        "# GRADED FUNCTION: optimize\n",
        "\n",
        "def optimize(w, b, X, Y, num_iterations, learning_rate, print_cost = False):\n",
        "    \"\"\"\n",
        "    This function optimizes w and b by running a gradient descent algorithm\n",
        "\n",
        "    Arguments:\n",
        "    w -- weights, a numpy array of size (num_px * num_px * 3, 1)\n",
        "    b -- bias, a scalar\n",
        "    X -- data of shape (num_px * num_px * 3, number of examples)\n",
        "    Y -- true \"label\" vector, of shape (1, number of examples)\n",
        "    num_iterations -- number of iterations of the optimization loop\n",
        "    learning_rate -- learning rate of the gradient descent update rule\n",
        "    print_cost -- True to print the loss every 100 steps\n",
        "\n",
        "    Returns:\n",
        "    params -- dictionary containing the weights w and bias b\n",
        "    grads -- dictionary containing the gradients of the weights and bias with respect to the cost function\n",
        "    costs -- list of all the costs computed during the optimization, this will be used to plot the learning curve.\n",
        "\n",
        "    Tips:\n",
        "    You basically need to write down two steps and iterate through them:\n",
        "        1) Calculate the cost and the gradient for the current parameters. Use propagate().\n",
        "        2) Update the parameters using gradient descent rule for w and b.\n",
        "    \"\"\"\n",
        "\n",
        "    costs = []\n",
        "\n",
        "    for i in range(num_iterations):\n",
        "\n",
        "\n",
        "        # Cost and gradient calculation (≈ 1-4 lines of code)\n",
        "        ### START CODE HERE ###\n",
        "        grads, cost = propagate(w,b,X,Y)\n",
        "        ### END CODE HERE ###\n",
        "        # Retrieve derivatives from grads\n",
        "        dw = grads[\"dw\"]\n",
        "        db = grads[\"db\"]\n",
        "\n",
        "        # update rule (≈ 2 lines of code)\n",
        "        ### START CODE HERE ###\n",
        "        w = w - learning_rate*dw\n",
        "        b = b - learning_rate*db\n",
        "        ### END CODE HERE ###\n",
        "\n",
        "        # Record the costs\n",
        "        if i % 100 == 0:\n",
        "            costs.append(cost)\n",
        "\n",
        "        # Print the cost every 100 training iterations\n",
        "        if print_cost and i % 100 == 0:\n",
        "            print (\"Cost after iteration %i: %f\" %(i, cost))\n",
        "\n",
        "    params = {\"w\": w,\n",
        "              \"b\": b}\n",
        "\n",
        "    grads = {\"dw\": dw,\n",
        "             \"db\": db}\n",
        "\n",
        "    return params, grads, costs"
      ]
    },
    {
      "cell_type": "code",
      "execution_count": null,
      "metadata": {
        "id": "a_5ql1PDWAf_",
        "outputId": "0d8f3241-1806-4c88-f4d8-815982c2060a",
        "colab": {
          "base_uri": "https://localhost:8080/"
        }
      },
      "outputs": [
        {
          "output_type": "stream",
          "name": "stdout",
          "text": [
            "(2, 1)\n",
            "[1]\n",
            "w = [[-0.02676149  1.22077943  0.10598206]\n",
            " [ 0.58661925  0.61038971  0.20299103]]\n",
            "b = 0.0\n",
            "dw = [[ 0.14095025 -0.26615014  0.12519988]\n",
            " [ 0.07047513 -0.13307507  0.06259994]]\n",
            "db = 0\n"
          ]
        }
      ],
      "source": [
        "print(X1.shape)\n",
        "print(Y1)\n",
        "\n",
        "params, grads, costs = optimize(w, b, X1, Y1, num_iterations= 100, learning_rate = 0.009, print_cost = False)\n",
        "\n",
        "print (\"w = \" + str(params[\"w\"]))\n",
        "print (\"b = \" + str(params[\"b\"]))\n",
        "print (\"dw = \" + str(grads[\"dw\"]))\n",
        "print (\"db = \" + str(grads[\"db\"]))"
      ]
    },
    {
      "cell_type": "markdown",
      "metadata": {
        "id": "I0vpJNvGWAf_"
      },
      "source": [
        "**Exercise:** The previous function will output the learned w and b. We are able to use w and b to predict the labels for a dataset X. Implement the `predict()` function. There are two steps to computing predictions:\n",
        "\n",
        "1. Calculate $\\hat{Y} = A = softmax(w^T X + b)$\n",
        "\n",
        "2. The index of the argmax of probability will be the label for that X"
      ]
    },
    {
      "cell_type": "code",
      "execution_count": null,
      "metadata": {
        "id": "1F3pW0GLWAgA"
      },
      "outputs": [],
      "source": [
        "# GRADED FUNCTION: predict\n",
        "\n",
        "def predict(w, b, X):\n",
        "    Z = np.dot(w.T, X) + b\n",
        "    A = softmax(Z)  # compute activation\n",
        "    return np.argmax(A, axis = 0), A\n"
      ]
    },
    {
      "cell_type": "code",
      "execution_count": null,
      "metadata": {
        "id": "fUpTVQkTWAgA",
        "outputId": "5fa5e897-9832-4da7-ca7c-4f5dc2b9dec3",
        "colab": {
          "base_uri": "https://localhost:8080/"
        }
      },
      "outputs": [
        {
          "output_type": "stream",
          "name": "stdout",
          "text": [
            "Predicted Classes:\n",
            "[1]\n",
            "Softmax Output:\n",
            "[[0.06991584]\n",
            " [0.867959  ]\n",
            " [0.06212516]]\n"
          ]
        }
      ],
      "source": [
        "\n",
        "# Make a prediction\n",
        "predicted_classes, A = predict(params[\"w\"], params[\"b\"], X1)\n",
        "\n",
        "# Print the results\n",
        "print(\"Predicted Classes:\")\n",
        "print(predicted_classes)\n",
        "print(\"Softmax Output:\")\n",
        "print(A)"
      ]
    },
    {
      "cell_type": "markdown",
      "metadata": {
        "id": "CguO6AO6WAgA"
      },
      "source": [
        "**Expected Output**:\n",
        "\n",
        "<table style=\"width:30%\">\n",
        "    <tr>\n",
        "         <td>\n",
        "             **predictions**\n",
        "         </td>\n",
        "          <td>\n",
        "            1\n",
        "         </td>  \n",
        "   </tr>\n",
        "\n",
        "</table>\n"
      ]
    },
    {
      "cell_type": "markdown",
      "metadata": {
        "id": "In9AKy0-WAgI"
      },
      "source": [
        "## 5 - Merge all functions into a model ##\n",
        "\n",
        "You will now see how the overall model is structured by putting together all the building blocks (functions implemented in the previous parts) together, in the right order.\n",
        "\n",
        "**Exercise:** Implement the model function. Use the following notation:\n",
        "    - Y_prediction_test for your predictions on the test set\n",
        "    - Y_prediction_train for your predictions on the train set\n",
        "    - w, costs, grads for the outputs of optimize()"
      ]
    },
    {
      "cell_type": "code",
      "execution_count": null,
      "metadata": {
        "id": "ACipixumWAgI"
      },
      "outputs": [],
      "source": [
        "# GRADED FUNCTION: model\n",
        "import numpy as np\n",
        "from keras.utils import to_categorical\n",
        "\n",
        "def model(X_train, Y_train, X_test, Y_test, tol=1e-4, num_iterations=2000, learning_rate=0.5, print_cost=False):\n",
        "    \"\"\"\n",
        "    Builds the logistic regression model by calling the function you've implemented previously\n",
        "\n",
        "    Arguments:\n",
        "    X_train -- training set represented by a numpy array of shape (num_px * num_px * 3, m_train)\n",
        "    Y_train -- training labels represented by a numpy array (vector) of shape (1, m_train)\n",
        "    X_test -- test set represented by a numpy array of shape (num_px * num_px * 3, m_test)\n",
        "    Y_test -- test labels represented by a numpy array (vector) of shape (1, m_test)\n",
        "    num_iterations -- hyperparameter representing the number of iterations to optimize the parameters\n",
        "    learning_rate -- hyperparameter representing the learning rate used in the update rule of optimize()\n",
        "    print_cost -- Set to true to print the cost every 100 iterations\n",
        "\n",
        "    Returns:\n",
        "    d -- dictionary containing information about the model.\n",
        "    \"\"\"\n",
        "    X = X_train\n",
        "    Y_train = Y_train\n",
        "    W, b = initialize_with_zeros(X_train.shape[0])  # Assuming initialize_with_zeros is implemented correctly\n",
        "    C = W.shape[1]\n",
        "    N = X.shape[1]\n",
        "    d = X.shape[1]\n",
        "\n",
        "    costs = []  # Initialize costs list\n",
        "\n",
        "    ### START CODE HERE ###\n",
        "    count = 0\n",
        "    check_w_after = 20\n",
        "    while count < num_iterations:\n",
        "        # mix data\n",
        "        mix_id = np.random.permutation(N)\n",
        "        for i in mix_id:\n",
        "            xi = X[:, i].reshape(-1,1)\n",
        "            yi = Y_train[:, i]\n",
        "\n",
        "            grads, cost = propagate(W, b, xi, yi)\n",
        "\n",
        "            dw = grads[\"dw\"]\n",
        "            db = grads[\"db\"]\n",
        "            W = W - learning_rate * dw\n",
        "            b = b - learning_rate * db\n",
        "            if i % 100 == 0:\n",
        "                costs.append(cost)\n",
        "            if print_cost and i % 100 == 0:\n",
        "                print(\"Cost after iteration %i: %f\" % (i, cost))\n",
        "\n",
        "        count += 1\n",
        "\n",
        "    # Predict test/train set examples\n",
        "    Y_prediction_test = predict(W, b, X_test)[0]\n",
        "    Y_prediction_train = predict(W, b, X_train)[0]\n",
        "\n",
        "    # Print train/test Errors\n",
        "    train_accuracy = np.mean(Y_prediction_train == Y_train) * 100\n",
        "    test_accuracy = np.mean(Y_prediction_test == Y_test) * 100\n",
        "    print(\"train accuracy: {} %\".format(train_accuracy))\n",
        "    print(\"test accuracy: {} %\".format(test_accuracy))\n",
        "\n",
        "    d = {\"costs\": costs,\n",
        "         \"Y_prediction_test\": Y_prediction_test,\n",
        "         \"Y_prediction_train\": Y_prediction_train,\n",
        "         \"w\": W,\n",
        "         \"b\": b,\n",
        "         \"learning_rate\": learning_rate,\n",
        "         \"num_iterations\": num_iterations}\n",
        "\n",
        "    return d\n"
      ]
    },
    {
      "cell_type": "markdown",
      "metadata": {
        "id": "z7nzlMhSWAgI"
      },
      "source": [
        "Run the following cell to train your model."
      ]
    },
    {
      "cell_type": "code",
      "execution_count": null,
      "metadata": {
        "id": "zYor-0eRWAgI",
        "outputId": "57d7016f-798b-40e5-bdec-c2bd2ebfc570",
        "colab": {
          "base_uri": "https://localhost:8080/"
        }
      },
      "outputs": [
        {
          "output_type": "stream",
          "name": "stdout",
          "text": [
            "Cost after iteration 200: 0.420942\n",
            "Cost after iteration 300: 0.194470\n",
            "Cost after iteration 400: 0.347466\n",
            "Cost after iteration 100: 0.260340\n",
            "Cost after iteration 0: 0.534059\n",
            "Cost after iteration 200: 0.211118\n",
            "Cost after iteration 400: 0.292377\n",
            "Cost after iteration 100: 0.161311\n",
            "Cost after iteration 0: 0.343676\n",
            "Cost after iteration 300: 0.144117\n",
            "Cost after iteration 0: 0.259876\n",
            "Cost after iteration 200: 0.099516\n",
            "Cost after iteration 400: 0.180868\n",
            "Cost after iteration 100: 0.100896\n",
            "Cost after iteration 300: 0.119157\n",
            "Cost after iteration 0: 0.162692\n",
            "Cost after iteration 100: 0.058674\n",
            "Cost after iteration 400: 0.122887\n",
            "Cost after iteration 200: 0.068596\n",
            "Cost after iteration 300: 0.070171\n",
            "Cost after iteration 300: 0.072112\n",
            "Cost after iteration 0: 0.143464\n",
            "Cost after iteration 200: 0.057366\n",
            "Cost after iteration 100: 0.048534\n",
            "Cost after iteration 400: 0.115418\n",
            "Cost after iteration 0: 0.107646\n",
            "Cost after iteration 100: 0.037013\n",
            "Cost after iteration 200: 0.042540\n",
            "Cost after iteration 400: 0.106263\n",
            "Cost after iteration 300: 0.055998\n",
            "Cost after iteration 200: 0.040165\n",
            "Cost after iteration 300: 0.046571\n",
            "Cost after iteration 100: 0.036937\n",
            "Cost after iteration 0: 0.086968\n",
            "Cost after iteration 400: 0.083097\n",
            "Cost after iteration 0: 0.074323\n",
            "Cost after iteration 300: 0.045685\n",
            "Cost after iteration 400: 0.077608\n",
            "Cost after iteration 100: 0.024759\n",
            "Cost after iteration 200: 0.032673\n",
            "Cost after iteration 0: 0.066431\n",
            "Cost after iteration 200: 0.029954\n",
            "Cost after iteration 400: 0.070843\n",
            "Cost after iteration 100: 0.020982\n",
            "Cost after iteration 300: 0.038065\n",
            "Cost after iteration 100: 0.020892\n",
            "Cost after iteration 0: 0.059752\n",
            "Cost after iteration 400: 0.057054\n",
            "Cost after iteration 200: 0.026154\n",
            "Cost after iteration 300: 0.035685\n",
            "Cost after iteration 100: 0.018715\n",
            "Cost after iteration 400: 0.056525\n",
            "Cost after iteration 200: 0.023942\n",
            "Cost after iteration 300: 0.034261\n",
            "Cost after iteration 0: 0.053188\n",
            "Cost after iteration 400: 0.054145\n",
            "Cost after iteration 0: 0.049523\n",
            "Cost after iteration 300: 0.032431\n",
            "Cost after iteration 200: 0.022425\n",
            "Cost after iteration 100: 0.015604\n",
            "Cost after iteration 0: 0.043443\n",
            "Cost after iteration 100: 0.014992\n",
            "Cost after iteration 300: 0.028421\n",
            "Cost after iteration 200: 0.020440\n",
            "Cost after iteration 400: 0.047598\n",
            "Cost after iteration 400: 0.041462\n",
            "Cost after iteration 300: 0.028752\n",
            "Cost after iteration 0: 0.039921\n",
            "Cost after iteration 200: 0.019274\n",
            "Cost after iteration 100: 0.013172\n",
            "Cost after iteration 400: 0.040180\n",
            "Cost after iteration 100: 0.011855\n",
            "Cost after iteration 0: 0.037808\n",
            "Cost after iteration 200: 0.018078\n",
            "Cost after iteration 300: 0.026605\n",
            "Cost after iteration 0: 0.035371\n",
            "Cost after iteration 200: 0.017356\n",
            "Cost after iteration 400: 0.039223\n",
            "Cost after iteration 100: 0.012460\n",
            "Cost after iteration 300: 0.024259\n",
            "Cost after iteration 0: 0.033156\n",
            "Cost after iteration 400: 0.036226\n",
            "Cost after iteration 100: 0.010523\n",
            "Cost after iteration 200: 0.015960\n",
            "Cost after iteration 300: 0.021263\n",
            "Cost after iteration 100: 0.009618\n",
            "Cost after iteration 0: 0.031066\n",
            "Cost after iteration 400: 0.033654\n",
            "Cost after iteration 200: 0.015192\n",
            "Cost after iteration 300: 0.020755\n",
            "Cost after iteration 100: 0.010088\n",
            "Cost after iteration 300: 0.020693\n",
            "Cost after iteration 0: 0.028885\n",
            "Cost after iteration 400: 0.031309\n",
            "Cost after iteration 200: 0.014420\n",
            "Cost after iteration 400: 0.031721\n",
            "Cost after iteration 0: 0.027516\n",
            "Cost after iteration 100: 0.008280\n",
            "Cost after iteration 300: 0.017700\n",
            "Cost after iteration 200: 0.013643\n",
            "Cost after iteration 0: 0.026040\n",
            "Cost after iteration 400: 0.028888\n",
            "Cost after iteration 300: 0.017129\n",
            "Cost after iteration 200: 0.012992\n",
            "Cost after iteration 100: 0.007970\n",
            "Cost after iteration 400: 0.029059\n",
            "Cost after iteration 100: 0.007850\n",
            "Cost after iteration 300: 0.016722\n",
            "Cost after iteration 200: 0.012601\n",
            "Cost after iteration 0: 0.024610\n",
            "Cost after iteration 0: 0.023466\n",
            "Cost after iteration 100: 0.007560\n",
            "Cost after iteration 200: 0.012357\n",
            "Cost after iteration 300: 0.016849\n",
            "Cost after iteration 400: 0.027368\n",
            "Cost after iteration 100: 0.007012\n",
            "Cost after iteration 200: 0.011524\n",
            "Cost after iteration 400: 0.026124\n",
            "Cost after iteration 0: 0.022043\n",
            "Cost after iteration 300: 0.015304\n",
            "Cost after iteration 300: 0.014982\n",
            "Cost after iteration 0: 0.021683\n",
            "Cost after iteration 100: 0.006718\n",
            "Cost after iteration 200: 0.011174\n",
            "Cost after iteration 400: 0.025021\n",
            "Cost after iteration 200: 0.010690\n",
            "Cost after iteration 400: 0.024185\n",
            "Cost after iteration 100: 0.006286\n",
            "Cost after iteration 0: 0.020429\n",
            "Cost after iteration 300: 0.014590\n",
            "Cost after iteration 400: 0.023304\n",
            "Cost after iteration 100: 0.005897\n",
            "Cost after iteration 200: 0.010440\n",
            "Cost after iteration 300: 0.013561\n",
            "Cost after iteration 0: 0.019599\n",
            "Cost after iteration 400: 0.022500\n",
            "Cost after iteration 100: 0.005942\n",
            "Cost after iteration 0: 0.019063\n",
            "Cost after iteration 200: 0.010079\n",
            "Cost after iteration 300: 0.014020\n",
            "Cost after iteration 200: 0.009839\n",
            "Cost after iteration 300: 0.013285\n",
            "Cost after iteration 100: 0.005592\n",
            "Cost after iteration 400: 0.021574\n",
            "Cost after iteration 0: 0.018274\n",
            "Cost after iteration 100: 0.005499\n",
            "Cost after iteration 400: 0.021287\n",
            "Cost after iteration 0: 0.017374\n",
            "Cost after iteration 300: 0.012611\n",
            "Cost after iteration 200: 0.009443\n",
            "Cost after iteration 100: 0.005282\n",
            "Cost after iteration 400: 0.020972\n",
            "Cost after iteration 300: 0.011838\n",
            "Cost after iteration 200: 0.009101\n",
            "Cost after iteration 0: 0.017026\n",
            "Cost after iteration 400: 0.019865\n",
            "Cost after iteration 0: 0.016790\n",
            "Cost after iteration 200: 0.008970\n",
            "Cost after iteration 100: 0.005202\n",
            "Cost after iteration 300: 0.011716\n",
            "Cost after iteration 0: 0.015997\n",
            "Cost after iteration 300: 0.011715\n",
            "Cost after iteration 100: 0.004934\n",
            "Cost after iteration 400: 0.019569\n",
            "Cost after iteration 200: 0.008579\n",
            "Cost after iteration 100: 0.004471\n",
            "Cost after iteration 400: 0.017876\n",
            "Cost after iteration 300: 0.010883\n",
            "Cost after iteration 200: 0.008367\n",
            "Cost after iteration 0: 0.015531\n",
            "Cost after iteration 400: 0.018050\n",
            "Cost after iteration 200: 0.008002\n",
            "Cost after iteration 300: 0.010728\n",
            "Cost after iteration 0: 0.015094\n",
            "Cost after iteration 100: 0.004462\n",
            "Cost after iteration 200: 0.007976\n",
            "Cost after iteration 0: 0.014637\n",
            "Cost after iteration 300: 0.010591\n",
            "Cost after iteration 400: 0.017467\n",
            "Cost after iteration 100: 0.004237\n",
            "Cost after iteration 200: 0.007676\n",
            "Cost after iteration 0: 0.014016\n",
            "Cost after iteration 400: 0.016960\n",
            "Cost after iteration 300: 0.010344\n",
            "Cost after iteration 100: 0.004159\n",
            "Cost after iteration 400: 0.016349\n",
            "Cost after iteration 200: 0.007532\n",
            "Cost after iteration 0: 0.013856\n",
            "Cost after iteration 100: 0.003991\n",
            "Cost after iteration 300: 0.009955\n",
            "Cost after iteration 200: 0.007373\n",
            "Cost after iteration 400: 0.016129\n",
            "Cost after iteration 300: 0.009752\n",
            "Cost after iteration 0: 0.013306\n",
            "Cost after iteration 100: 0.003946\n",
            "Cost after iteration 100: 0.003820\n",
            "Cost after iteration 200: 0.007133\n",
            "Cost after iteration 300: 0.009574\n",
            "Cost after iteration 0: 0.012855\n",
            "Cost after iteration 400: 0.015915\n",
            "Cost after iteration 400: 0.015324\n",
            "Cost after iteration 0: 0.012646\n",
            "Cost after iteration 100: 0.003826\n",
            "Cost after iteration 200: 0.006980\n",
            "Cost after iteration 300: 0.009315\n",
            "Cost after iteration 100: 0.003682\n",
            "Cost after iteration 400: 0.015043\n",
            "Cost after iteration 0: 0.012293\n",
            "Cost after iteration 300: 0.009180\n",
            "Cost after iteration 200: 0.006815\n",
            "Cost after iteration 200: 0.006696\n",
            "Cost after iteration 100: 0.003569\n",
            "Cost after iteration 300: 0.009176\n",
            "Cost after iteration 400: 0.014157\n",
            "Cost after iteration 0: 0.011974\n",
            "Cost after iteration 100: 0.003438\n",
            "Cost after iteration 200: 0.006548\n",
            "Cost after iteration 0: 0.011652\n",
            "Cost after iteration 400: 0.014251\n",
            "Cost after iteration 300: 0.008841\n",
            "Cost after iteration 200: 0.006474\n",
            "Cost after iteration 100: 0.003451\n",
            "Cost after iteration 300: 0.008665\n",
            "Cost after iteration 400: 0.013755\n",
            "Cost after iteration 0: 0.011500\n",
            "Cost after iteration 300: 0.008412\n",
            "Cost after iteration 100: 0.003379\n",
            "Cost after iteration 400: 0.014015\n",
            "Cost after iteration 200: 0.006307\n",
            "Cost after iteration 0: 0.011274\n",
            "Cost after iteration 0: 0.011029\n",
            "Cost after iteration 400: 0.013443\n",
            "Cost after iteration 100: 0.003094\n",
            "Cost after iteration 200: 0.006101\n",
            "Cost after iteration 300: 0.008203\n",
            "Cost after iteration 100: 0.003094\n",
            "Cost after iteration 200: 0.005967\n",
            "Cost after iteration 300: 0.008302\n",
            "Cost after iteration 400: 0.013297\n",
            "Cost after iteration 0: 0.010656\n",
            "Cost after iteration 300: 0.007898\n",
            "Cost after iteration 400: 0.012658\n",
            "Cost after iteration 200: 0.005861\n",
            "Cost after iteration 0: 0.010502\n",
            "Cost after iteration 100: 0.002997\n",
            "Cost after iteration 100: 0.002954\n",
            "Cost after iteration 400: 0.012293\n",
            "Cost after iteration 200: 0.005724\n",
            "Cost after iteration 0: 0.010284\n",
            "Cost after iteration 300: 0.007740\n",
            "Cost after iteration 100: 0.002890\n",
            "Cost after iteration 300: 0.007599\n",
            "Cost after iteration 400: 0.012302\n",
            "Cost after iteration 0: 0.010144\n",
            "Cost after iteration 200: 0.005666\n",
            "Cost after iteration 300: 0.007603\n",
            "Cost after iteration 400: 0.012026\n",
            "Cost after iteration 0: 0.009804\n",
            "Cost after iteration 200: 0.005566\n",
            "Cost after iteration 100: 0.002748\n",
            "Cost after iteration 200: 0.005464\n",
            "Cost after iteration 300: 0.007295\n",
            "Cost after iteration 400: 0.011712\n",
            "Cost after iteration 0: 0.009628\n",
            "Cost after iteration 100: 0.002786\n",
            "Cost after iteration 200: 0.005377\n",
            "Cost after iteration 100: 0.002750\n",
            "Cost after iteration 400: 0.011513\n",
            "Cost after iteration 0: 0.009483\n",
            "Cost after iteration 300: 0.007376\n",
            "Cost after iteration 100: 0.002658\n",
            "Cost after iteration 300: 0.007043\n",
            "Cost after iteration 200: 0.005303\n",
            "Cost after iteration 400: 0.011402\n",
            "Cost after iteration 0: 0.009305\n",
            "Cost after iteration 200: 0.005219\n",
            "Cost after iteration 100: 0.002626\n",
            "Cost after iteration 300: 0.006928\n",
            "Cost after iteration 0: 0.009177\n",
            "Cost after iteration 400: 0.011343\n",
            "Cost after iteration 300: 0.006909\n",
            "Cost after iteration 100: 0.002583\n",
            "Cost after iteration 0: 0.008966\n",
            "Cost after iteration 200: 0.005097\n",
            "Cost after iteration 400: 0.010921\n",
            "Cost after iteration 200: 0.004974\n",
            "Cost after iteration 300: 0.006789\n",
            "Cost after iteration 0: 0.008823\n",
            "Cost after iteration 100: 0.002479\n",
            "Cost after iteration 400: 0.010744\n",
            "Cost after iteration 200: 0.004947\n",
            "Cost after iteration 0: 0.008626\n",
            "Cost after iteration 300: 0.006600\n",
            "Cost after iteration 400: 0.010675\n",
            "Cost after iteration 100: 0.002443\n",
            "Cost after iteration 100: 0.002428\n",
            "Cost after iteration 300: 0.006638\n",
            "Cost after iteration 0: 0.008478\n",
            "Cost after iteration 200: 0.004832\n",
            "Cost after iteration 400: 0.010387\n",
            "Cost after iteration 200: 0.004778\n",
            "Cost after iteration 100: 0.002346\n",
            "Cost after iteration 0: 0.008355\n",
            "Cost after iteration 400: 0.010282\n",
            "Cost after iteration 300: 0.006433\n",
            "Cost after iteration 300: 0.006351\n",
            "Cost after iteration 400: 0.009927\n",
            "Cost after iteration 100: 0.002329\n",
            "Cost after iteration 200: 0.004734\n",
            "Cost after iteration 0: 0.008267\n",
            "Cost after iteration 400: 0.009914\n",
            "Cost after iteration 0: 0.008100\n",
            "Cost after iteration 300: 0.006266\n",
            "Cost after iteration 100: 0.002289\n",
            "Cost after iteration 200: 0.004619\n",
            "Cost after iteration 300: 0.006177\n",
            "Cost after iteration 100: 0.002247\n",
            "Cost after iteration 400: 0.009609\n",
            "Cost after iteration 200: 0.004552\n",
            "Cost after iteration 0: 0.007959\n",
            "Cost after iteration 400: 0.009484\n",
            "Cost after iteration 0: 0.007886\n",
            "Cost after iteration 100: 0.002229\n",
            "Cost after iteration 200: 0.004478\n",
            "Cost after iteration 300: 0.005961\n",
            "Cost after iteration 100: 0.002196\n",
            "Cost after iteration 200: 0.004407\n",
            "Cost after iteration 0: 0.007655\n",
            "Cost after iteration 300: 0.005980\n",
            "Cost after iteration 400: 0.009371\n",
            "Cost after iteration 200: 0.004413\n",
            "Cost after iteration 100: 0.002105\n",
            "Cost after iteration 0: 0.007660\n",
            "Cost after iteration 400: 0.009204\n",
            "Cost after iteration 300: 0.005852\n",
            "Cost after iteration 0: 0.007500\n",
            "Cost after iteration 100: 0.002086\n",
            "Cost after iteration 400: 0.009092\n",
            "Cost after iteration 200: 0.004329\n",
            "Cost after iteration 300: 0.005794\n",
            "Cost after iteration 300: 0.005733\n",
            "Cost after iteration 400: 0.008839\n",
            "Cost after iteration 200: 0.004279\n",
            "Cost after iteration 100: 0.002054\n",
            "Cost after iteration 0: 0.007360\n",
            "Cost after iteration 100: 0.002036\n",
            "Cost after iteration 0: 0.007288\n",
            "Cost after iteration 200: 0.004165\n",
            "Cost after iteration 300: 0.005543\n",
            "Cost after iteration 400: 0.008816\n",
            "Cost after iteration 300: 0.005612\n",
            "Cost after iteration 0: 0.007161\n",
            "Cost after iteration 100: 0.002028\n",
            "Cost after iteration 200: 0.004149\n",
            "Cost after iteration 400: 0.008766\n",
            "Cost after iteration 200: 0.004108\n",
            "Cost after iteration 100: 0.002009\n",
            "Cost after iteration 300: 0.005522\n",
            "Cost after iteration 400: 0.008660\n",
            "Cost after iteration 0: 0.007042\n",
            "Cost after iteration 400: 0.008451\n",
            "Cost after iteration 200: 0.004004\n",
            "Cost after iteration 0: 0.006913\n",
            "Cost after iteration 300: 0.005405\n",
            "Cost after iteration 100: 0.001922\n",
            "Cost after iteration 0: 0.006850\n",
            "Cost after iteration 200: 0.003947\n",
            "Cost after iteration 400: 0.008349\n",
            "Cost after iteration 300: 0.005290\n",
            "Cost after iteration 100: 0.001879\n",
            "Cost after iteration 400: 0.008480\n",
            "Cost after iteration 200: 0.003913\n",
            "Cost after iteration 100: 0.001879\n",
            "Cost after iteration 0: 0.006758\n",
            "Cost after iteration 300: 0.005250\n",
            "Cost after iteration 0: 0.006702\n",
            "Cost after iteration 300: 0.005223\n",
            "Cost after iteration 100: 0.001828\n",
            "Cost after iteration 400: 0.008144\n",
            "Cost after iteration 200: 0.003888\n",
            "Cost after iteration 200: 0.003825\n",
            "Cost after iteration 0: 0.006573\n",
            "Cost after iteration 100: 0.001803\n",
            "Cost after iteration 400: 0.008035\n",
            "Cost after iteration 300: 0.005154\n",
            "Cost after iteration 200: 0.003800\n",
            "Cost after iteration 400: 0.007928\n",
            "Cost after iteration 0: 0.006486\n",
            "Cost after iteration 100: 0.001777\n",
            "Cost after iteration 300: 0.005080\n",
            "Cost after iteration 200: 0.003743\n",
            "Cost after iteration 100: 0.001793\n",
            "Cost after iteration 0: 0.006427\n",
            "Cost after iteration 400: 0.007859\n",
            "Cost after iteration 300: 0.004996\n",
            "Cost after iteration 300: 0.005005\n",
            "Cost after iteration 100: 0.001772\n",
            "Cost after iteration 0: 0.006361\n",
            "Cost after iteration 400: 0.007880\n",
            "Cost after iteration 200: 0.003676\n",
            "Cost after iteration 400: 0.007632\n",
            "Cost after iteration 200: 0.003647\n",
            "Cost after iteration 300: 0.004957\n",
            "Cost after iteration 0: 0.006284\n",
            "Cost after iteration 100: 0.001714\n",
            "Cost after iteration 100: 0.001677\n",
            "Cost after iteration 200: 0.003599\n",
            "Cost after iteration 0: 0.006184\n",
            "Cost after iteration 400: 0.007526\n",
            "Cost after iteration 300: 0.004854\n",
            "Cost after iteration 200: 0.003541\n",
            "Cost after iteration 400: 0.007497\n",
            "Cost after iteration 100: 0.001681\n",
            "Cost after iteration 0: 0.006114\n",
            "Cost after iteration 300: 0.004788\n",
            "Cost after iteration 100: 0.001650\n",
            "Cost after iteration 200: 0.003513\n",
            "Cost after iteration 400: 0.007370\n",
            "Cost after iteration 300: 0.004717\n",
            "Cost after iteration 0: 0.006003\n",
            "Cost after iteration 300: 0.004687\n",
            "Cost after iteration 400: 0.007326\n",
            "Cost after iteration 100: 0.001615\n",
            "Cost after iteration 200: 0.003454\n",
            "Cost after iteration 0: 0.005947\n",
            "Cost after iteration 300: 0.004645\n",
            "Cost after iteration 400: 0.007179\n",
            "Cost after iteration 100: 0.001593\n",
            "Cost after iteration 200: 0.003447\n",
            "Cost after iteration 0: 0.005873\n",
            "Cost after iteration 200: 0.003400\n",
            "Cost after iteration 100: 0.001590\n",
            "Cost after iteration 400: 0.007121\n",
            "Cost after iteration 0: 0.005804\n",
            "Cost after iteration 300: 0.004540\n",
            "Cost after iteration 200: 0.003369\n",
            "Cost after iteration 300: 0.004565\n",
            "Cost after iteration 100: 0.001565\n",
            "Cost after iteration 0: 0.005779\n",
            "Cost after iteration 400: 0.007132\n",
            "Cost after iteration 200: 0.003332\n",
            "Cost after iteration 100: 0.001527\n",
            "Cost after iteration 0: 0.005692\n",
            "Cost after iteration 400: 0.006903\n",
            "Cost after iteration 300: 0.004433\n",
            "Cost after iteration 300: 0.004434\n",
            "Cost after iteration 200: 0.003280\n",
            "Cost after iteration 0: 0.005642\n",
            "Cost after iteration 100: 0.001535\n",
            "Cost after iteration 400: 0.006883\n",
            "Cost after iteration 400: 0.006754\n",
            "Cost after iteration 0: 0.005567\n",
            "Cost after iteration 300: 0.004356\n",
            "Cost after iteration 100: 0.001509\n",
            "Cost after iteration 200: 0.003245\n",
            "Cost after iteration 0: 0.005497\n",
            "Cost after iteration 200: 0.003211\n",
            "Cost after iteration 100: 0.001489\n",
            "Cost after iteration 400: 0.006726\n",
            "Cost after iteration 300: 0.004331\n",
            "Cost after iteration 100: 0.001484\n",
            "Cost after iteration 200: 0.003192\n",
            "Cost after iteration 300: 0.004360\n",
            "Cost after iteration 400: 0.006696\n",
            "Cost after iteration 0: 0.005421\n",
            "Cost after iteration 100: 0.001463\n",
            "Cost after iteration 300: 0.004237\n",
            "Cost after iteration 0: 0.005378\n",
            "Cost after iteration 200: 0.003157\n",
            "Cost after iteration 400: 0.006601\n",
            "Cost after iteration 300: 0.004235\n",
            "Cost after iteration 100: 0.001437\n",
            "Cost after iteration 400: 0.006584\n",
            "Cost after iteration 200: 0.003134\n",
            "Cost after iteration 0: 0.005328\n",
            "Cost after iteration 400: 0.006430\n",
            "Cost after iteration 300: 0.004189\n",
            "Cost after iteration 0: 0.005237\n",
            "Cost after iteration 200: 0.003100\n",
            "Cost after iteration 100: 0.001424\n",
            "Cost after iteration 0: 0.005207\n",
            "Cost after iteration 200: 0.003065\n",
            "Cost after iteration 400: 0.006304\n",
            "Cost after iteration 300: 0.004031\n",
            "Cost after iteration 100: 0.001403\n",
            "Cost after iteration 0: 0.005156\n",
            "Cost after iteration 100: 0.001398\n",
            "Cost after iteration 300: 0.004086\n",
            "Cost after iteration 200: 0.003038\n",
            "Cost after iteration 400: 0.006389\n",
            "Cost after iteration 200: 0.003002\n",
            "Cost after iteration 400: 0.006226\n",
            "Cost after iteration 300: 0.004056\n",
            "Cost after iteration 0: 0.005081\n",
            "Cost after iteration 100: 0.001372\n",
            "Cost after iteration 0: 0.005052\n",
            "Cost after iteration 400: 0.006199\n",
            "Cost after iteration 200: 0.002969\n",
            "Cost after iteration 100: 0.001358\n",
            "Cost after iteration 300: 0.004020\n",
            "train accuracy: 100.0 %\n",
            "test accuracy: 86.66666666666667 %\n"
          ]
        }
      ],
      "source": [
        "d = model(xtrain_tfidf, train_y, xtest_tfidf, test_y, num_iterations = 100, learning_rate = .5, print_cost = True)"
      ]
    },
    {
      "cell_type": "markdown",
      "metadata": {
        "collapsed": true,
        "id": "hbPe9OLsWAgI"
      },
      "source": [
        "**Comment**: Training accuracy is close to 100%. This is a good sanity check: your model is working and has high enough capacity to fit the training data. Test error is around 84%. It is actually not bad for this simple model, given the small dataset we used and that logistic regression is a linear classifier. You'll build an even better classifier next week!\n",
        "\n",
        "Also, you see that the model is clearly overfitting the training data. Later in this specialization you will learn how to reduce overfitting, for example by using regularization. Using the code below (and changing the `index` variable) you can look at predictions on pictures of the test set."
      ]
    },
    {
      "cell_type": "markdown",
      "metadata": {
        "id": "UINqBEZZWAgJ"
      },
      "source": [
        "Let's also plot the cost function and the gradients."
      ]
    },
    {
      "cell_type": "code",
      "execution_count": null,
      "metadata": {
        "id": "LBqvlvXfWAgJ",
        "colab": {
          "base_uri": "https://localhost:8080/",
          "height": 472
        },
        "outputId": "a21570cd-aa7f-48f8-e9b6-2f2012e0374f"
      },
      "outputs": [
        {
          "output_type": "display_data",
          "data": {
            "text/plain": [
              "<Figure size 640x480 with 1 Axes>"
            ],
            "image/png": "[encoded data removed]"
          },
          "metadata": {}
        }
      ],
      "source": [
        "# Plot learning curve (with costs)\n",
        "costs = np.squeeze(d['costs'])\n",
        "plt.plot(costs)\n",
        "plt.ylabel('cost')\n",
        "plt.xlabel('iterations (per hundreds)')\n",
        "plt.title(\"Learning rate =\" + str(d[\"learning_rate\"]))\n",
        "plt.show()"
      ]
    },
    {
      "cell_type": "markdown",
      "metadata": {
        "collapsed": true,
        "id": "R3uJmPfFWAgJ"
      },
      "source": [
        "**Interpretation**:\n",
        "You can see the cost decreasing. It shows that the parameters are being learned. However, you see that you could train the model even more on the training set. Try to increase the number of iterations in the cell above and rerun the cells. You might see that the training set accuracy goes up, but the test set accuracy goes down. This is called overfitting."
      ]
    },
    {
      "cell_type": "markdown",
      "metadata": {
        "id": "x9agHsQxWAgJ"
      },
      "source": [
        "## 6 - Further analysis (optional/ungraded exercise) ##\n",
        "\n",
        "Congratulations on building your first text classification model. Let's analyze it further, and examine possible choices for the learning rate $\\alpha$."
      ]
    },
    {
      "cell_type": "markdown",
      "metadata": {
        "id": "JYQpb_lhWAgJ"
      },
      "source": [
        "#### Choice of learning rate ####\n",
        "\n",
        "**Reminder**:\n",
        "In order for Gradient Descent to work you must choose the learning rate wisely. The learning rate $\\alpha$  determines how rapidly we update the parameters. If the learning rate is too large we may \"overshoot\" the optimal value. Similarly, if it is too small we will need too many iterations to converge to the best values. That's why it is crucial to use a well-tuned learning rate.\n",
        "\n",
        "Let's compare the learning curve of our model with several choices of learning rates. Run the cell below. This should take about 1 minute. Feel free also to try different values than the three we have initialized the `learning_rates` variable to contain, and see what happens."
      ]
    },
    {
      "cell_type": "code",
      "execution_count": null,
      "metadata": {
        "id": "2v_2D5VgWAgJ",
        "colab": {
          "base_uri": "https://localhost:8080/",
          "height": 762
        },
        "outputId": "281a4f74-ba9a-4d3d-bbf4-59c44d2eb507"
      },
      "outputs": [
        {
          "output_type": "stream",
          "name": "stdout",
          "text": [
            "learning rate is: 0.05\n",
            "train accuracy: 100.0 %\n",
            "test accuracy: 86.0 %\n",
            "\n",
            "-------------------------------------------------------\n",
            "\n",
            "learning rate is: 0.1\n",
            "train accuracy: 100.0 %\n",
            "test accuracy: 86.0 %\n",
            "\n",
            "-------------------------------------------------------\n",
            "\n",
            "learning rate is: 0.5\n",
            "train accuracy: 100.0 %\n",
            "test accuracy: 85.33333333333334 %\n",
            "\n",
            "-------------------------------------------------------\n",
            "\n"
          ]
        },
        {
          "output_type": "display_data",
          "data": {
            "text/plain": [
              "<Figure size 640x480 with 1 Axes>"
            ],
            "image/png": "[encoded data removed]"
          },
          "metadata": {}
        }
      ],
      "source": [
        "learning_rates = [0.05, 0.1, 0.5]\n",
        "models = {}\n",
        "for i in learning_rates:\n",
        "    print (\"learning rate is: \" + str(i))\n",
        "    models[str(i)] = model(xtrain_tfidf, train_y, xtest_tfidf, test_y, num_iterations = 3000, learning_rate = i, print_cost = False)\n",
        "    print ('\\n' + \"-------------------------------------------------------\" + '\\n')\n",
        "\n",
        "for i in learning_rates:\n",
        "    plt.plot(np.squeeze(models[str(i)][\"costs\"]), label= str(models[str(i)][\"learning_rate\"]))\n",
        "\n",
        "plt.ylabel('cost')\n",
        "plt.xlabel('iterations (hundreds)')\n",
        "\n",
        "legend = plt.legend(loc='upper center', shadow=True)\n",
        "frame = legend.get_frame()\n",
        "frame.set_facecolor('0.90')\n",
        "plt.show()"
      ]
    },
    {
      "cell_type": "markdown",
      "metadata": {
        "id": "nhSWhAK8WAgJ"
      },
      "source": [
        "**Interpretation**:\n",
        "- Different learning rates give different costs and thus different predictions results.\n",
        "- If the learning rate is too large, the cost may oscillate up and down. It may even diverge (though in this example, using 0.5 does not have that problem and still eventually ends up at a good value for the cost).\n",
        "- A lower cost doesn't mean a better model. You have to check if there is possibly overfitting. It happens when the training accuracy is a lot higher than the test accuracy.\n",
        "- In deep learning, we usually recommend that you:\n",
        "    - Choose the learning rate that better minimizes the cost function.\n",
        "    - If your model overfits, use other techniques to reduce overfitting. (We'll talk about this in later videos.)\n"
      ]
    },
    {
      "cell_type": "markdown",
      "metadata": {
        "collapsed": true,
        "id": "DyxFBSzZWAgJ"
      },
      "source": [
        "## 7 - Test with your own news (optional/ungraded exercise) ##\n",
        "\n",
        "Congratulations on finishing this assignment. You can use your own text and see the output of your model.\n",
        "\n",
        "[\"Chinhtrixahoi\" \"Thethao\" \"Khac\"] labels corresponds to [0 2 1] labels"
      ]
    },
    {
      "cell_type": "code",
      "execution_count": null,
      "metadata": {
        "id": "ixUK4Eu2WAgJ"
      },
      "outputs": [],
      "source": [
        "text = \"\"\"Làm mẹ khi quá trẻ dễ bị loãng xương\n",
        "Những cô gái mới lớn mang thai sẽ gia tăng nguy cơ xương bị yếu đi. Trong một nghiên cứu mới tại Mỹ, 1/3 số bà mẹ ở tuổi thiếu niên có chỉ số điển hình của bệnh loãng xương, hoặc có dấu hiệu báo trước căn bệnh này.\n",
        "\"Cần phải đảm bảo rằng những bà mẹ thiếu niên tiêu thụ đủ lượng canxi trong thời gian mang thai - 1.300 milligram mỗi ngày, để đáp ứng nhu cầu canxi của cả mẹ lẫn bào thai\", Kimberly O. O'Brien tại Trường sức khoẻ cộng đồng Johns Hopkins Bloomberg ở Baltimore, phát biểu.\n",
        "Canxi đặc biệt cần thiết trong thời kỳ mang thai do bào thai khi lớn lên cần nhiều chất dinh dưỡng để hình thành xương, trong lúc bản thân các thiếu nữ cũng cần nhiều canxi cho chính mình. Thực tế, 40% lượng xương của con gái được hình thành trong độ tuổi dậy thì.\n",
        "Mặc dù có hơn nửa triệu thiếu nữ sinh con tại Mỹ mỗi năm, chưa có nhiều thông tin về việc mang thai ảnh hưởng thế nào tới xương của người mẹ. O'Brien và cộng sự đã nghiên cứu 23 cô gái mang thai trong độ tuổi 13,5 đến 18,3. Cũng giống như người lớn, lượng tiêu thụ canxi trong thời kỳ mang thai của các cô gái trẻ cao hơn là sau khi sinh.\n",
        "Khoảng 1/3 các bà mẹ trẻ có dấu hiệu xương mỏng đi đáng kể sau khi sinh. Trong số 15 em được đo xương trong 3-4 tháng sau khi sinh, 2 em có đủ dấu hiệu của bệnh loãng xương. 3 em khác có dấu hiệu của tiền loãng xương.\n",
        "Tuy vậy, không phải cứ mang thai ở độ tuổi thiếu niên là có xương bị yếu đi. Kết quả nghiên cứu chỉ ra rằng tiêu thụ nhiều lượng canxi hơn trong thời kỳ mang thai sẽ giúp chống lại tình trạng yếu xương.\n",
        "\"\"\"\n",
        "\n",
        "x_tfidf =  tfidf_vect.transform([text]).T.toarray()"
      ]
    },
    {
      "cell_type": "code",
      "execution_count": null,
      "metadata": {
        "id": "W2eW_flmWAgK",
        "colab": {
          "base_uri": "https://localhost:8080/"
        },
        "outputId": "378ce68a-d31d-4198-8e12-6ad0d9ee237f"
      },
      "outputs": [
        {
          "output_type": "execute_result",
          "data": {
            "text/plain": [
              "(array([1]),\n",
              " array([[0.13478959],\n",
              "        [0.81421456],\n",
              "        [0.05099585]]))"
            ]
          },
          "metadata": {},
          "execution_count": 133
        }
      ],
      "source": [
        "predict(d[\"w\"], d[\"b\"], x_tfidf)"
      ]
    },
    {
      "cell_type": "code",
      "source": [
        "text = \"\"\"Liverpool vừa vào chung kết Cup Liên đoàn Anh gặp Chelsea, và đang giữ đỉnh bảng Ngoại hạng Anh, vẫn còn khả năng ăn bốn danh hiệu. Vì thế, quyết định của ông gây ngỡ ngàng. Nhưng HLV người Đức cho biết ông đã nói chuyện với giới chủ Liverpool từ tháng 11/2023. Và quyết định này không liên quan gì đến sức khỏe của ông.\n",
        "\"\"\"\n",
        "\n",
        "x_tfidf =  tfidf_vect.transform([text]).T.toarray()"
      ],
      "metadata": {
        "id": "XeBsUu7m48S3"
      },
      "execution_count": null,
      "outputs": []
    },
    {
      "cell_type": "code",
      "source": [
        "predict(d[\"w\"], d[\"b\"], x_tfidf)"
      ],
      "metadata": {
        "colab": {
          "base_uri": "https://localhost:8080/"
        },
        "id": "gsjgUif75G7A",
        "outputId": "51439949-128e-4cbb-abe9-da36bd7d868a"
      },
      "execution_count": null,
      "outputs": [
        {
          "output_type": "execute_result",
          "data": {
            "text/plain": [
              "(array([2]),\n",
              " array([[0.00409019],\n",
              "        [0.20098161],\n",
              "        [0.7949282 ]]))"
            ]
          },
          "metadata": {},
          "execution_count": 135
        }
      ]
    },
    {
      "cell_type": "markdown",
      "metadata": {
        "id": "eN0rIQvSWAgK"
      },
      "source": [
        "<font color='blue'>\n",
        "**What to remember from this assignment:**\n",
        "1. Preprocessing the dataset is important.\n",
        "2. You implemented each function separately: initialize(), propagate(), optimize(). Then you built a model().\n",
        "3. Tuning the learning rate (which is an example of a \"hyperparameter\") can make a big difference to the algorithm. You will see more examples of this later in this course!"
      ]
    },
    {
      "cell_type": "markdown",
      "metadata": {
        "id": "YVsIQ4O2WAgK"
      },
      "source": [
        "Finally, if you'd like, we invite you to try different things on this Notebook. Make sure you submit before trying anything. Once you submit, things you can play with include:\n",
        "    - Play with the learning rate and the number of iterations\n",
        "    - Try different initialization methods and compare the results\n",
        "    - Test other preprocessings\n",
        "    - Try others parameters of TfidfVectorizer, such as ngrams, lowercase\n",
        "    - See what features are in a Tf-idf vector\n",
        "    - Test with different feature representation other than Tf-idf"
      ]
    },
    {
      "cell_type": "markdown",
      "metadata": {
        "id": "z8N0ORpMWAgK"
      },
      "source": [
        "Bibliography:\n",
        "- http://www.wildml.com/2015/09/implementing-a-neural-network-from-scratch/\n",
        "- https://stats.stackexchange.com/questions/211436/why-do-we-normalize-images-by-subtracting-the-datasets-image-mean-and-not-the-c"
      ]
    }
  ],
  "metadata": {
    "coursera": {
      "course_slug": "neural-networks-deep-learning",
      "graded_item_id": "XaIWT",
      "launcher_item_id": "zAgPl"
    },
    "kernelspec": {
      "display_name": "Python 3",
      "name": "python3"
    },
    "language_info": {
      "codemirror_mode": {
        "name": "ipython",
        "version": 3
      },
      "file_extension": ".py",
      "mimetype": "text/x-python",
      "name": "python",
      "nbconvert_exporter": "python",
      "pygments_lexer": "ipython3",
      "version": "3.6.6"
    },
    "colab": {
      "provenance": [],
      "gpuType": "T4",
      "include_colab_link": true
    },
    "accelerator": "GPU"
  },
  "nbformat": 4,
  "nbformat_minor": 0
}